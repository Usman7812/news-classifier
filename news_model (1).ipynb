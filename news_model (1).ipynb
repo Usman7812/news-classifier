{
  "nbformat": 4,
  "nbformat_minor": 0,
  "metadata": {
    "colab": {
      "provenance": []
    },
    "kernelspec": {
      "name": "python3",
      "display_name": "Python 3"
    },
    "language_info": {
      "name": "python"
    }
  },
  "cells": [
    {
      "cell_type": "code",
      "source": [
        "import pandas as pd\n",
        "from sklearn.model_selection import train_test_split\n",
        "from sklearn.feature_extraction.text import TfidfVectorizer\n",
        "from sklearn.linear_model import LogisticRegression\n",
        "from sklearn.multiclass import OneVsRestClassifier\n",
        "from sklearn.preprocessing import MultiLabelBinarizer\n",
        "from sklearn.metrics import classification_report\n",
        "import numpy as np # Import numpy\n",
        "\n",
        "\n",
        "df = pd.read_excel(\"/content/Corrected_27k_News_Categories.xlsx\")\n",
        "\n",
        "df['text'] = df['Story Excerpt'] + \" \" + df['Story Heading']\n",
        "df = df[['text', 'Category']].dropna()\n",
        "df['Category'] = df['Category'].apply(lambda x: [cat.strip() for cat in x.split(',')])\n",
        "mlb = MultiLabelBinarizer()\n",
        "y = mlb.fit_transform(df['Category'])\n",
        "X_train, X_test, y_train, y_test = train_test_split(\n",
        "    df['text'], y, test_size=0.2, random_state=42)\n",
        "\n",
        "vectorizer = TfidfVectorizer(\n",
        "    max_features=20000,\n",
        "    ngram_range=(1, 2),\n",
        "    stop_words='english',\n",
        "    sublinear_tf=True\n",
        ")\n",
        "X_train_vec = vectorizer.fit_transform(X_train)\n",
        "X_test_vec = vectorizer.transform(X_test)\n",
        "\n",
        "model = OneVsRestClassifier(LogisticRegression(max_iter=1000,class_weight=\"balanced\"))\n",
        "model.fit(X_train_vec, y_train)\n",
        "\n",
        "y_pred = model.predict(X_test_vec)\n",
        "\n",
        "def predict_categories(heading, excerpt, threshold=0.6):\n",
        "    text = heading + \". \" + excerpt\n",
        "    vec = vectorizer.transform([text])\n",
        "    proba = model.predict_proba(vec)[0]\n",
        "    classes = mlb.classes_\n",
        "\n",
        "    for i in range(len(classes)):\n",
        "        if proba[i] >= threshold:\n",
        "            print(f\"{classes[i]}: {proba[i]:.2f}\")\n",
        "\n",
        "    return [classes[i] for i in range(len(classes)) if proba[i] >= threshold]\n",
        "\n",
        "\n",
        "headline = \"Imran’s sons meet Trump aide to kick off US campaign to free father\"\n",
        "excerpt = \"Incarcerated PTI Founder Imran Khan’s sons met with United States President Donald Trump’s key aide Richard Grenell on Tuesday as they kicked off a campaign calling for their father’s release from prison.\"\n",
        "categories = predict_categories(headline, excerpt,threshold=0.5)\n",
        "print(\"Predicted Categories:\", categories)\n",
        "\n"
      ],
      "metadata": {
        "colab": {
          "base_uri": "https://localhost:8080/"
        },
        "id": "9-rrX6XFveYa",
        "outputId": "b2bac413-b020-4e90-f963-22a58d3feca9"
      },
      "execution_count": 16,
      "outputs": [
        {
          "output_type": "stream",
          "name": "stdout",
          "text": [
            "Politics: 0.94\n",
            "Technology: 0.53\n",
            "Predicted Categories: ['Politics', 'Technology']\n"
          ]
        }
      ]
    }
  ]
}